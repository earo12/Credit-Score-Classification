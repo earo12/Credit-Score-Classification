{
  "nbformat": 4,
  "nbformat_minor": 0,
  "metadata": {
    "colab": {
      "provenance": [],
      "authorship_tag": "ABX9TyOtcLO1zk/sDXJCS3YRnW3M",
      "include_colab_link": true
    },
    "kernelspec": {
      "name": "python3",
      "display_name": "Python 3"
    },
    "language_info": {
      "name": "python"
    }
  },
  "cells": [
    {
      "cell_type": "markdown",
      "metadata": {
        "id": "view-in-github",
        "colab_type": "text"
      },
      "source": [
        "<a href=\"https://colab.research.google.com/github/earo12/Credit-Score-Classification/blob/main/Credit_Score_Classification.ipynb\" target=\"_parent\"><img src=\"https://colab.research.google.com/assets/colab-badge.svg\" alt=\"Open In Colab\"/></a>"
      ]
    },
    {
      "cell_type": "markdown",
      "source": [
        "# Credit Score Classification"
      ],
      "metadata": {
        "id": "yjBHmUsUN8qY"
      }
    },
    {
      "cell_type": "code",
      "execution_count": 3,
      "metadata": {
        "id": "y6Z9X4ljzD-v"
      },
      "outputs": [],
      "source": [
        "import numpy as np\n",
        "import pandas as pd\n",
        "import matplotlib.pyplot as plt\n",
        "import seaborn as sns\n",
        "import re\n",
        "from sklearn.impute import SimpleImputer\n",
        "from sklearn.preprocessing import LabelEncoder"
      ]
    },
    {
      "cell_type": "code",
      "source": [
        "df_train = pd.read_csv('train.csv')"
      ],
      "metadata": {
        "id": "17MindnPza29",
        "colab": {
          "base_uri": "https://localhost:8080/"
        },
        "outputId": "661e36b8-fd4c-45da-9c1a-f266734ba289"
      },
      "execution_count": 4,
      "outputs": [
        {
          "output_type": "stream",
          "name": "stderr",
          "text": [
            "/usr/local/lib/python3.8/dist-packages/IPython/core/interactiveshell.py:3326: DtypeWarning: Columns (26) have mixed types.Specify dtype option on import or set low_memory=False.\n",
            "  exec(code_obj, self.user_global_ns, self.user_ns)\n"
          ]
        }
      ]
    },
    {
      "cell_type": "code",
      "source": [
        "df_train.head()"
      ],
      "metadata": {
        "id": "UXav5Uq4zf4l",
        "colab": {
          "base_uri": "https://localhost:8080/",
          "height": 473
        },
        "outputId": "c90f5a02-0de5-444a-abc6-6d94aae7c884"
      },
      "execution_count": 5,
      "outputs": [
        {
          "output_type": "execute_result",
          "data": {
            "text/plain": [
              "       ID Customer_ID     Month           Name   Age          SSN Occupation  \\\n",
              "0  0x1602   CUS_0xd40   January  Aaron Maashoh    23  821-00-0265  Scientist   \n",
              "1  0x1603   CUS_0xd40  February  Aaron Maashoh    23  821-00-0265  Scientist   \n",
              "2  0x1604   CUS_0xd40     March  Aaron Maashoh  -500  821-00-0265  Scientist   \n",
              "3  0x1605   CUS_0xd40     April  Aaron Maashoh    23  821-00-0265  Scientist   \n",
              "4  0x1606   CUS_0xd40       May  Aaron Maashoh    23  821-00-0265  Scientist   \n",
              "\n",
              "  Annual_Income  Monthly_Inhand_Salary  Num_Bank_Accounts  ...  Credit_Mix  \\\n",
              "0      19114.12            1824.843333                  3  ...           _   \n",
              "1      19114.12                    NaN                  3  ...        Good   \n",
              "2      19114.12                    NaN                  3  ...        Good   \n",
              "3      19114.12                    NaN                  3  ...        Good   \n",
              "4      19114.12            1824.843333                  3  ...        Good   \n",
              "\n",
              "   Outstanding_Debt Credit_Utilization_Ratio     Credit_History_Age  \\\n",
              "0            809.98                26.822620  22 Years and 1 Months   \n",
              "1            809.98                31.944960                    NaN   \n",
              "2            809.98                28.609352  22 Years and 3 Months   \n",
              "3            809.98                31.377862  22 Years and 4 Months   \n",
              "4            809.98                24.797347  22 Years and 5 Months   \n",
              "\n",
              "   Payment_of_Min_Amount Total_EMI_per_month Amount_invested_monthly  \\\n",
              "0                     No           49.574949       80.41529543900253   \n",
              "1                     No           49.574949      118.28022162236736   \n",
              "2                     No           49.574949         81.699521264648   \n",
              "3                     No           49.574949       199.4580743910713   \n",
              "4                     No           49.574949      41.420153086217326   \n",
              "\n",
              "                  Payment_Behaviour     Monthly_Balance Credit_Score  \n",
              "0   High_spent_Small_value_payments  312.49408867943663         Good  \n",
              "1    Low_spent_Large_value_payments  284.62916249607184         Good  \n",
              "2   Low_spent_Medium_value_payments   331.2098628537912         Good  \n",
              "3    Low_spent_Small_value_payments  223.45130972736786         Good  \n",
              "4  High_spent_Medium_value_payments  341.48923103222177         Good  \n",
              "\n",
              "[5 rows x 28 columns]"
            ],
            "text/html": [
              "\n",
              "  <div id=\"df-2ec3a2a9-50cb-40b9-97df-4a181fea7877\">\n",
              "    <div class=\"colab-df-container\">\n",
              "      <div>\n",
              "<style scoped>\n",
              "    .dataframe tbody tr th:only-of-type {\n",
              "        vertical-align: middle;\n",
              "    }\n",
              "\n",
              "    .dataframe tbody tr th {\n",
              "        vertical-align: top;\n",
              "    }\n",
              "\n",
              "    .dataframe thead th {\n",
              "        text-align: right;\n",
              "    }\n",
              "</style>\n",
              "<table border=\"1\" class=\"dataframe\">\n",
              "  <thead>\n",
              "    <tr style=\"text-align: right;\">\n",
              "      <th></th>\n",
              "      <th>ID</th>\n",
              "      <th>Customer_ID</th>\n",
              "      <th>Month</th>\n",
              "      <th>Name</th>\n",
              "      <th>Age</th>\n",
              "      <th>SSN</th>\n",
              "      <th>Occupation</th>\n",
              "      <th>Annual_Income</th>\n",
              "      <th>Monthly_Inhand_Salary</th>\n",
              "      <th>Num_Bank_Accounts</th>\n",
              "      <th>...</th>\n",
              "      <th>Credit_Mix</th>\n",
              "      <th>Outstanding_Debt</th>\n",
              "      <th>Credit_Utilization_Ratio</th>\n",
              "      <th>Credit_History_Age</th>\n",
              "      <th>Payment_of_Min_Amount</th>\n",
              "      <th>Total_EMI_per_month</th>\n",
              "      <th>Amount_invested_monthly</th>\n",
              "      <th>Payment_Behaviour</th>\n",
              "      <th>Monthly_Balance</th>\n",
              "      <th>Credit_Score</th>\n",
              "    </tr>\n",
              "  </thead>\n",
              "  <tbody>\n",
              "    <tr>\n",
              "      <th>0</th>\n",
              "      <td>0x1602</td>\n",
              "      <td>CUS_0xd40</td>\n",
              "      <td>January</td>\n",
              "      <td>Aaron Maashoh</td>\n",
              "      <td>23</td>\n",
              "      <td>821-00-0265</td>\n",
              "      <td>Scientist</td>\n",
              "      <td>19114.12</td>\n",
              "      <td>1824.843333</td>\n",
              "      <td>3</td>\n",
              "      <td>...</td>\n",
              "      <td>_</td>\n",
              "      <td>809.98</td>\n",
              "      <td>26.822620</td>\n",
              "      <td>22 Years and 1 Months</td>\n",
              "      <td>No</td>\n",
              "      <td>49.574949</td>\n",
              "      <td>80.41529543900253</td>\n",
              "      <td>High_spent_Small_value_payments</td>\n",
              "      <td>312.49408867943663</td>\n",
              "      <td>Good</td>\n",
              "    </tr>\n",
              "    <tr>\n",
              "      <th>1</th>\n",
              "      <td>0x1603</td>\n",
              "      <td>CUS_0xd40</td>\n",
              "      <td>February</td>\n",
              "      <td>Aaron Maashoh</td>\n",
              "      <td>23</td>\n",
              "      <td>821-00-0265</td>\n",
              "      <td>Scientist</td>\n",
              "      <td>19114.12</td>\n",
              "      <td>NaN</td>\n",
              "      <td>3</td>\n",
              "      <td>...</td>\n",
              "      <td>Good</td>\n",
              "      <td>809.98</td>\n",
              "      <td>31.944960</td>\n",
              "      <td>NaN</td>\n",
              "      <td>No</td>\n",
              "      <td>49.574949</td>\n",
              "      <td>118.28022162236736</td>\n",
              "      <td>Low_spent_Large_value_payments</td>\n",
              "      <td>284.62916249607184</td>\n",
              "      <td>Good</td>\n",
              "    </tr>\n",
              "    <tr>\n",
              "      <th>2</th>\n",
              "      <td>0x1604</td>\n",
              "      <td>CUS_0xd40</td>\n",
              "      <td>March</td>\n",
              "      <td>Aaron Maashoh</td>\n",
              "      <td>-500</td>\n",
              "      <td>821-00-0265</td>\n",
              "      <td>Scientist</td>\n",
              "      <td>19114.12</td>\n",
              "      <td>NaN</td>\n",
              "      <td>3</td>\n",
              "      <td>...</td>\n",
              "      <td>Good</td>\n",
              "      <td>809.98</td>\n",
              "      <td>28.609352</td>\n",
              "      <td>22 Years and 3 Months</td>\n",
              "      <td>No</td>\n",
              "      <td>49.574949</td>\n",
              "      <td>81.699521264648</td>\n",
              "      <td>Low_spent_Medium_value_payments</td>\n",
              "      <td>331.2098628537912</td>\n",
              "      <td>Good</td>\n",
              "    </tr>\n",
              "    <tr>\n",
              "      <th>3</th>\n",
              "      <td>0x1605</td>\n",
              "      <td>CUS_0xd40</td>\n",
              "      <td>April</td>\n",
              "      <td>Aaron Maashoh</td>\n",
              "      <td>23</td>\n",
              "      <td>821-00-0265</td>\n",
              "      <td>Scientist</td>\n",
              "      <td>19114.12</td>\n",
              "      <td>NaN</td>\n",
              "      <td>3</td>\n",
              "      <td>...</td>\n",
              "      <td>Good</td>\n",
              "      <td>809.98</td>\n",
              "      <td>31.377862</td>\n",
              "      <td>22 Years and 4 Months</td>\n",
              "      <td>No</td>\n",
              "      <td>49.574949</td>\n",
              "      <td>199.4580743910713</td>\n",
              "      <td>Low_spent_Small_value_payments</td>\n",
              "      <td>223.45130972736786</td>\n",
              "      <td>Good</td>\n",
              "    </tr>\n",
              "    <tr>\n",
              "      <th>4</th>\n",
              "      <td>0x1606</td>\n",
              "      <td>CUS_0xd40</td>\n",
              "      <td>May</td>\n",
              "      <td>Aaron Maashoh</td>\n",
              "      <td>23</td>\n",
              "      <td>821-00-0265</td>\n",
              "      <td>Scientist</td>\n",
              "      <td>19114.12</td>\n",
              "      <td>1824.843333</td>\n",
              "      <td>3</td>\n",
              "      <td>...</td>\n",
              "      <td>Good</td>\n",
              "      <td>809.98</td>\n",
              "      <td>24.797347</td>\n",
              "      <td>22 Years and 5 Months</td>\n",
              "      <td>No</td>\n",
              "      <td>49.574949</td>\n",
              "      <td>41.420153086217326</td>\n",
              "      <td>High_spent_Medium_value_payments</td>\n",
              "      <td>341.48923103222177</td>\n",
              "      <td>Good</td>\n",
              "    </tr>\n",
              "  </tbody>\n",
              "</table>\n",
              "<p>5 rows × 28 columns</p>\n",
              "</div>\n",
              "      <button class=\"colab-df-convert\" onclick=\"convertToInteractive('df-2ec3a2a9-50cb-40b9-97df-4a181fea7877')\"\n",
              "              title=\"Convert this dataframe to an interactive table.\"\n",
              "              style=\"display:none;\">\n",
              "        \n",
              "  <svg xmlns=\"http://www.w3.org/2000/svg\" height=\"24px\"viewBox=\"0 0 24 24\"\n",
              "       width=\"24px\">\n",
              "    <path d=\"M0 0h24v24H0V0z\" fill=\"none\"/>\n",
              "    <path d=\"M18.56 5.44l.94 2.06.94-2.06 2.06-.94-2.06-.94-.94-2.06-.94 2.06-2.06.94zm-11 1L8.5 8.5l.94-2.06 2.06-.94-2.06-.94L8.5 2.5l-.94 2.06-2.06.94zm10 10l.94 2.06.94-2.06 2.06-.94-2.06-.94-.94-2.06-.94 2.06-2.06.94z\"/><path d=\"M17.41 7.96l-1.37-1.37c-.4-.4-.92-.59-1.43-.59-.52 0-1.04.2-1.43.59L10.3 9.45l-7.72 7.72c-.78.78-.78 2.05 0 2.83L4 21.41c.39.39.9.59 1.41.59.51 0 1.02-.2 1.41-.59l7.78-7.78 2.81-2.81c.8-.78.8-2.07 0-2.86zM5.41 20L4 18.59l7.72-7.72 1.47 1.35L5.41 20z\"/>\n",
              "  </svg>\n",
              "      </button>\n",
              "      \n",
              "  <style>\n",
              "    .colab-df-container {\n",
              "      display:flex;\n",
              "      flex-wrap:wrap;\n",
              "      gap: 12px;\n",
              "    }\n",
              "\n",
              "    .colab-df-convert {\n",
              "      background-color: #E8F0FE;\n",
              "      border: none;\n",
              "      border-radius: 50%;\n",
              "      cursor: pointer;\n",
              "      display: none;\n",
              "      fill: #1967D2;\n",
              "      height: 32px;\n",
              "      padding: 0 0 0 0;\n",
              "      width: 32px;\n",
              "    }\n",
              "\n",
              "    .colab-df-convert:hover {\n",
              "      background-color: #E2EBFA;\n",
              "      box-shadow: 0px 1px 2px rgba(60, 64, 67, 0.3), 0px 1px 3px 1px rgba(60, 64, 67, 0.15);\n",
              "      fill: #174EA6;\n",
              "    }\n",
              "\n",
              "    [theme=dark] .colab-df-convert {\n",
              "      background-color: #3B4455;\n",
              "      fill: #D2E3FC;\n",
              "    }\n",
              "\n",
              "    [theme=dark] .colab-df-convert:hover {\n",
              "      background-color: #434B5C;\n",
              "      box-shadow: 0px 1px 3px 1px rgba(0, 0, 0, 0.15);\n",
              "      filter: drop-shadow(0px 1px 2px rgba(0, 0, 0, 0.3));\n",
              "      fill: #FFFFFF;\n",
              "    }\n",
              "  </style>\n",
              "\n",
              "      <script>\n",
              "        const buttonEl =\n",
              "          document.querySelector('#df-2ec3a2a9-50cb-40b9-97df-4a181fea7877 button.colab-df-convert');\n",
              "        buttonEl.style.display =\n",
              "          google.colab.kernel.accessAllowed ? 'block' : 'none';\n",
              "\n",
              "        async function convertToInteractive(key) {\n",
              "          const element = document.querySelector('#df-2ec3a2a9-50cb-40b9-97df-4a181fea7877');\n",
              "          const dataTable =\n",
              "            await google.colab.kernel.invokeFunction('convertToInteractive',\n",
              "                                                     [key], {});\n",
              "          if (!dataTable) return;\n",
              "\n",
              "          const docLinkHtml = 'Like what you see? Visit the ' +\n",
              "            '<a target=\"_blank\" href=https://colab.research.google.com/notebooks/data_table.ipynb>data table notebook</a>'\n",
              "            + ' to learn more about interactive tables.';\n",
              "          element.innerHTML = '';\n",
              "          dataTable['output_type'] = 'display_data';\n",
              "          await google.colab.output.renderOutput(dataTable, element);\n",
              "          const docLink = document.createElement('div');\n",
              "          docLink.innerHTML = docLinkHtml;\n",
              "          element.appendChild(docLink);\n",
              "        }\n",
              "      </script>\n",
              "    </div>\n",
              "  </div>\n",
              "  "
            ]
          },
          "metadata": {},
          "execution_count": 5
        }
      ]
    },
    {
      "cell_type": "code",
      "source": [
        "df_train.info()"
      ],
      "metadata": {
        "colab": {
          "base_uri": "https://localhost:8080/"
        },
        "id": "V3wkhUjcPixD",
        "outputId": "e8490fe0-f188-45c5-b162-ec631a25f727"
      },
      "execution_count": 6,
      "outputs": [
        {
          "output_type": "stream",
          "name": "stdout",
          "text": [
            "<class 'pandas.core.frame.DataFrame'>\n",
            "RangeIndex: 100000 entries, 0 to 99999\n",
            "Data columns (total 28 columns):\n",
            " #   Column                    Non-Null Count   Dtype  \n",
            "---  ------                    --------------   -----  \n",
            " 0   ID                        100000 non-null  object \n",
            " 1   Customer_ID               100000 non-null  object \n",
            " 2   Month                     100000 non-null  object \n",
            " 3   Name                      90015 non-null   object \n",
            " 4   Age                       100000 non-null  object \n",
            " 5   SSN                       100000 non-null  object \n",
            " 6   Occupation                100000 non-null  object \n",
            " 7   Annual_Income             100000 non-null  object \n",
            " 8   Monthly_Inhand_Salary     84998 non-null   float64\n",
            " 9   Num_Bank_Accounts         100000 non-null  int64  \n",
            " 10  Num_Credit_Card           100000 non-null  int64  \n",
            " 11  Interest_Rate             100000 non-null  int64  \n",
            " 12  Num_of_Loan               100000 non-null  object \n",
            " 13  Type_of_Loan              88592 non-null   object \n",
            " 14  Delay_from_due_date       100000 non-null  int64  \n",
            " 15  Num_of_Delayed_Payment    92998 non-null   object \n",
            " 16  Changed_Credit_Limit      100000 non-null  object \n",
            " 17  Num_Credit_Inquiries      98035 non-null   float64\n",
            " 18  Credit_Mix                100000 non-null  object \n",
            " 19  Outstanding_Debt          100000 non-null  object \n",
            " 20  Credit_Utilization_Ratio  100000 non-null  float64\n",
            " 21  Credit_History_Age        90970 non-null   object \n",
            " 22  Payment_of_Min_Amount     100000 non-null  object \n",
            " 23  Total_EMI_per_month       100000 non-null  float64\n",
            " 24  Amount_invested_monthly   95521 non-null   object \n",
            " 25  Payment_Behaviour         100000 non-null  object \n",
            " 26  Monthly_Balance           98800 non-null   object \n",
            " 27  Credit_Score              100000 non-null  object \n",
            "dtypes: float64(4), int64(4), object(20)\n",
            "memory usage: 21.4+ MB\n"
          ]
        }
      ]
    },
    {
      "cell_type": "code",
      "source": [
        "df_copy_train = df_train.copy()\n",
        "def isnull():\n",
        "  return df_copy_train.isnull().sum()"
      ],
      "metadata": {
        "id": "0sbRDSqOJ5dv"
      },
      "execution_count": 7,
      "outputs": []
    },
    {
      "cell_type": "code",
      "source": [
        "isnull()"
      ],
      "metadata": {
        "colab": {
          "base_uri": "https://localhost:8080/"
        },
        "id": "obqePUr8SeVO",
        "outputId": "c175ad6f-2139-49f5-f37b-afebc6e4bedf"
      },
      "execution_count": 8,
      "outputs": [
        {
          "output_type": "execute_result",
          "data": {
            "text/plain": [
              "ID                              0\n",
              "Customer_ID                     0\n",
              "Month                           0\n",
              "Name                         9985\n",
              "Age                             0\n",
              "SSN                             0\n",
              "Occupation                      0\n",
              "Annual_Income                   0\n",
              "Monthly_Inhand_Salary       15002\n",
              "Num_Bank_Accounts               0\n",
              "Num_Credit_Card                 0\n",
              "Interest_Rate                   0\n",
              "Num_of_Loan                     0\n",
              "Type_of_Loan                11408\n",
              "Delay_from_due_date             0\n",
              "Num_of_Delayed_Payment       7002\n",
              "Changed_Credit_Limit            0\n",
              "Num_Credit_Inquiries         1965\n",
              "Credit_Mix                      0\n",
              "Outstanding_Debt                0\n",
              "Credit_Utilization_Ratio        0\n",
              "Credit_History_Age           9030\n",
              "Payment_of_Min_Amount           0\n",
              "Total_EMI_per_month             0\n",
              "Amount_invested_monthly      4479\n",
              "Payment_Behaviour               0\n",
              "Monthly_Balance              1200\n",
              "Credit_Score                    0\n",
              "dtype: int64"
            ]
          },
          "metadata": {},
          "execution_count": 8
        }
      ]
    },
    {
      "cell_type": "code",
      "source": [
        "print(f'Shape of train data: {df_train.shape}')"
      ],
      "metadata": {
        "colab": {
          "base_uri": "https://localhost:8080/"
        },
        "id": "qTSicOQ4U1RO",
        "outputId": "843e18bf-a845-498a-c693-05368257712f"
      },
      "execution_count": 9,
      "outputs": [
        {
          "output_type": "stream",
          "name": "stdout",
          "text": [
            "Shape of train data: (100000, 28)\n"
          ]
        }
      ]
    },
    {
      "cell_type": "code",
      "source": [
        "df_train.describe().T"
      ],
      "metadata": {
        "colab": {
          "base_uri": "https://localhost:8080/",
          "height": 344
        },
        "id": "Rp-EzpL8zfv_",
        "outputId": "da6f609a-ca5b-4d92-9591-e499a5a4a20d"
      },
      "execution_count": 10,
      "outputs": [
        {
          "output_type": "execute_result",
          "data": {
            "text/plain": [
              "                             count         mean          std         min  \\\n",
              "Monthly_Inhand_Salary      84998.0  4194.170850  3183.686167  303.645417   \n",
              "Num_Bank_Accounts         100000.0    17.091280   117.404834   -1.000000   \n",
              "Num_Credit_Card           100000.0    22.474430   129.057410    0.000000   \n",
              "Interest_Rate             100000.0    72.466040   466.422621    1.000000   \n",
              "Delay_from_due_date       100000.0    21.068780    14.860104   -5.000000   \n",
              "Num_Credit_Inquiries       98035.0    27.754251   193.177339    0.000000   \n",
              "Credit_Utilization_Ratio  100000.0    32.285173     5.116875   20.000000   \n",
              "Total_EMI_per_month       100000.0  1403.118217  8306.041270    0.000000   \n",
              "\n",
              "                                  25%          50%          75%           max  \n",
              "Monthly_Inhand_Salary     1625.568229  3093.745000  5957.448333  15204.633333  \n",
              "Num_Bank_Accounts            3.000000     6.000000     7.000000   1798.000000  \n",
              "Num_Credit_Card              4.000000     5.000000     7.000000   1499.000000  \n",
              "Interest_Rate                8.000000    13.000000    20.000000   5797.000000  \n",
              "Delay_from_due_date         10.000000    18.000000    28.000000     67.000000  \n",
              "Num_Credit_Inquiries         3.000000     6.000000     9.000000   2597.000000  \n",
              "Credit_Utilization_Ratio    28.052567    32.305784    36.496663     50.000000  \n",
              "Total_EMI_per_month         30.306660    69.249473   161.224249  82331.000000  "
            ],
            "text/html": [
              "\n",
              "  <div id=\"df-8b058d35-a113-4871-aebb-c8d45c6b7346\">\n",
              "    <div class=\"colab-df-container\">\n",
              "      <div>\n",
              "<style scoped>\n",
              "    .dataframe tbody tr th:only-of-type {\n",
              "        vertical-align: middle;\n",
              "    }\n",
              "\n",
              "    .dataframe tbody tr th {\n",
              "        vertical-align: top;\n",
              "    }\n",
              "\n",
              "    .dataframe thead th {\n",
              "        text-align: right;\n",
              "    }\n",
              "</style>\n",
              "<table border=\"1\" class=\"dataframe\">\n",
              "  <thead>\n",
              "    <tr style=\"text-align: right;\">\n",
              "      <th></th>\n",
              "      <th>count</th>\n",
              "      <th>mean</th>\n",
              "      <th>std</th>\n",
              "      <th>min</th>\n",
              "      <th>25%</th>\n",
              "      <th>50%</th>\n",
              "      <th>75%</th>\n",
              "      <th>max</th>\n",
              "    </tr>\n",
              "  </thead>\n",
              "  <tbody>\n",
              "    <tr>\n",
              "      <th>Monthly_Inhand_Salary</th>\n",
              "      <td>84998.0</td>\n",
              "      <td>4194.170850</td>\n",
              "      <td>3183.686167</td>\n",
              "      <td>303.645417</td>\n",
              "      <td>1625.568229</td>\n",
              "      <td>3093.745000</td>\n",
              "      <td>5957.448333</td>\n",
              "      <td>15204.633333</td>\n",
              "    </tr>\n",
              "    <tr>\n",
              "      <th>Num_Bank_Accounts</th>\n",
              "      <td>100000.0</td>\n",
              "      <td>17.091280</td>\n",
              "      <td>117.404834</td>\n",
              "      <td>-1.000000</td>\n",
              "      <td>3.000000</td>\n",
              "      <td>6.000000</td>\n",
              "      <td>7.000000</td>\n",
              "      <td>1798.000000</td>\n",
              "    </tr>\n",
              "    <tr>\n",
              "      <th>Num_Credit_Card</th>\n",
              "      <td>100000.0</td>\n",
              "      <td>22.474430</td>\n",
              "      <td>129.057410</td>\n",
              "      <td>0.000000</td>\n",
              "      <td>4.000000</td>\n",
              "      <td>5.000000</td>\n",
              "      <td>7.000000</td>\n",
              "      <td>1499.000000</td>\n",
              "    </tr>\n",
              "    <tr>\n",
              "      <th>Interest_Rate</th>\n",
              "      <td>100000.0</td>\n",
              "      <td>72.466040</td>\n",
              "      <td>466.422621</td>\n",
              "      <td>1.000000</td>\n",
              "      <td>8.000000</td>\n",
              "      <td>13.000000</td>\n",
              "      <td>20.000000</td>\n",
              "      <td>5797.000000</td>\n",
              "    </tr>\n",
              "    <tr>\n",
              "      <th>Delay_from_due_date</th>\n",
              "      <td>100000.0</td>\n",
              "      <td>21.068780</td>\n",
              "      <td>14.860104</td>\n",
              "      <td>-5.000000</td>\n",
              "      <td>10.000000</td>\n",
              "      <td>18.000000</td>\n",
              "      <td>28.000000</td>\n",
              "      <td>67.000000</td>\n",
              "    </tr>\n",
              "    <tr>\n",
              "      <th>Num_Credit_Inquiries</th>\n",
              "      <td>98035.0</td>\n",
              "      <td>27.754251</td>\n",
              "      <td>193.177339</td>\n",
              "      <td>0.000000</td>\n",
              "      <td>3.000000</td>\n",
              "      <td>6.000000</td>\n",
              "      <td>9.000000</td>\n",
              "      <td>2597.000000</td>\n",
              "    </tr>\n",
              "    <tr>\n",
              "      <th>Credit_Utilization_Ratio</th>\n",
              "      <td>100000.0</td>\n",
              "      <td>32.285173</td>\n",
              "      <td>5.116875</td>\n",
              "      <td>20.000000</td>\n",
              "      <td>28.052567</td>\n",
              "      <td>32.305784</td>\n",
              "      <td>36.496663</td>\n",
              "      <td>50.000000</td>\n",
              "    </tr>\n",
              "    <tr>\n",
              "      <th>Total_EMI_per_month</th>\n",
              "      <td>100000.0</td>\n",
              "      <td>1403.118217</td>\n",
              "      <td>8306.041270</td>\n",
              "      <td>0.000000</td>\n",
              "      <td>30.306660</td>\n",
              "      <td>69.249473</td>\n",
              "      <td>161.224249</td>\n",
              "      <td>82331.000000</td>\n",
              "    </tr>\n",
              "  </tbody>\n",
              "</table>\n",
              "</div>\n",
              "      <button class=\"colab-df-convert\" onclick=\"convertToInteractive('df-8b058d35-a113-4871-aebb-c8d45c6b7346')\"\n",
              "              title=\"Convert this dataframe to an interactive table.\"\n",
              "              style=\"display:none;\">\n",
              "        \n",
              "  <svg xmlns=\"http://www.w3.org/2000/svg\" height=\"24px\"viewBox=\"0 0 24 24\"\n",
              "       width=\"24px\">\n",
              "    <path d=\"M0 0h24v24H0V0z\" fill=\"none\"/>\n",
              "    <path d=\"M18.56 5.44l.94 2.06.94-2.06 2.06-.94-2.06-.94-.94-2.06-.94 2.06-2.06.94zm-11 1L8.5 8.5l.94-2.06 2.06-.94-2.06-.94L8.5 2.5l-.94 2.06-2.06.94zm10 10l.94 2.06.94-2.06 2.06-.94-2.06-.94-.94-2.06-.94 2.06-2.06.94z\"/><path d=\"M17.41 7.96l-1.37-1.37c-.4-.4-.92-.59-1.43-.59-.52 0-1.04.2-1.43.59L10.3 9.45l-7.72 7.72c-.78.78-.78 2.05 0 2.83L4 21.41c.39.39.9.59 1.41.59.51 0 1.02-.2 1.41-.59l7.78-7.78 2.81-2.81c.8-.78.8-2.07 0-2.86zM5.41 20L4 18.59l7.72-7.72 1.47 1.35L5.41 20z\"/>\n",
              "  </svg>\n",
              "      </button>\n",
              "      \n",
              "  <style>\n",
              "    .colab-df-container {\n",
              "      display:flex;\n",
              "      flex-wrap:wrap;\n",
              "      gap: 12px;\n",
              "    }\n",
              "\n",
              "    .colab-df-convert {\n",
              "      background-color: #E8F0FE;\n",
              "      border: none;\n",
              "      border-radius: 50%;\n",
              "      cursor: pointer;\n",
              "      display: none;\n",
              "      fill: #1967D2;\n",
              "      height: 32px;\n",
              "      padding: 0 0 0 0;\n",
              "      width: 32px;\n",
              "    }\n",
              "\n",
              "    .colab-df-convert:hover {\n",
              "      background-color: #E2EBFA;\n",
              "      box-shadow: 0px 1px 2px rgba(60, 64, 67, 0.3), 0px 1px 3px 1px rgba(60, 64, 67, 0.15);\n",
              "      fill: #174EA6;\n",
              "    }\n",
              "\n",
              "    [theme=dark] .colab-df-convert {\n",
              "      background-color: #3B4455;\n",
              "      fill: #D2E3FC;\n",
              "    }\n",
              "\n",
              "    [theme=dark] .colab-df-convert:hover {\n",
              "      background-color: #434B5C;\n",
              "      box-shadow: 0px 1px 3px 1px rgba(0, 0, 0, 0.15);\n",
              "      filter: drop-shadow(0px 1px 2px rgba(0, 0, 0, 0.3));\n",
              "      fill: #FFFFFF;\n",
              "    }\n",
              "  </style>\n",
              "\n",
              "      <script>\n",
              "        const buttonEl =\n",
              "          document.querySelector('#df-8b058d35-a113-4871-aebb-c8d45c6b7346 button.colab-df-convert');\n",
              "        buttonEl.style.display =\n",
              "          google.colab.kernel.accessAllowed ? 'block' : 'none';\n",
              "\n",
              "        async function convertToInteractive(key) {\n",
              "          const element = document.querySelector('#df-8b058d35-a113-4871-aebb-c8d45c6b7346');\n",
              "          const dataTable =\n",
              "            await google.colab.kernel.invokeFunction('convertToInteractive',\n",
              "                                                     [key], {});\n",
              "          if (!dataTable) return;\n",
              "\n",
              "          const docLinkHtml = 'Like what you see? Visit the ' +\n",
              "            '<a target=\"_blank\" href=https://colab.research.google.com/notebooks/data_table.ipynb>data table notebook</a>'\n",
              "            + ' to learn more about interactive tables.';\n",
              "          element.innerHTML = '';\n",
              "          dataTable['output_type'] = 'display_data';\n",
              "          await google.colab.output.renderOutput(dataTable, element);\n",
              "          const docLink = document.createElement('div');\n",
              "          docLink.innerHTML = docLinkHtml;\n",
              "          element.appendChild(docLink);\n",
              "        }\n",
              "      </script>\n",
              "    </div>\n",
              "  </div>\n",
              "  "
            ]
          },
          "metadata": {},
          "execution_count": 10
        }
      ]
    },
    {
      "cell_type": "code",
      "source": [
        "values_oc = df_copy_train['Occupation'].value_counts()\n",
        "plt.figure(figsize = (8, 6))\n",
        "sns.barplot(data = df_copy_train, x = values_oc.index, y = values_oc.values)\n",
        "plt.xlabel('Occupations')\n",
        "plt.xticks(rotation = 70)\n",
        "plt.ylabel('Count')\n",
        "plt.title('Distribution of occupations')\n",
        "plt.show()\n"
      ],
      "metadata": {
        "colab": {
          "base_uri": "https://localhost:8080/",
          "height": 472
        },
        "id": "LkT7yE_uThrO",
        "outputId": "06b5c74a-4404-4f95-e2cd-f2de4aa665fa"
      },
      "execution_count": 11,
      "outputs": [
        {
          "output_type": "display_data",
          "data": {
            "text/plain": [
              "<Figure size 576x432 with 1 Axes>"
            ],
            "image/png": "[encoded data removed]"
          },
          "metadata": {
            "needs_background": "light"
          }
        }
      ]
    },
    {
      "cell_type": "code",
      "source": [
        "sns.countplot(df_copy_train['Credit_Mix'])\n",
        "plt.title('Distribution of Credit Mix')\n",
        "plt.show()"
      ],
      "metadata": {
        "colab": {
          "base_uri": "https://localhost:8080/",
          "height": 351
        },
        "id": "_uXs1xS6Zikl",
        "outputId": "5ec7da71-3cc5-4a7a-b08a-62aadf2345ba"
      },
      "execution_count": 12,
      "outputs": [
        {
          "output_type": "stream",
          "name": "stderr",
          "text": [
            "/usr/local/lib/python3.8/dist-packages/seaborn/_decorators.py:36: FutureWarning: Pass the following variable as a keyword arg: x. From version 0.12, the only valid positional argument will be `data`, and passing other arguments without an explicit keyword will result in an error or misinterpretation.\n",
            "  warnings.warn(\n"
          ]
        },
        {
          "output_type": "display_data",
          "data": {
            "text/plain": [
              "<Figure size 432x288 with 1 Axes>"
            ],
            "image/png": "[encoded data removed]"
          },
          "metadata": {
            "needs_background": "light"
          }
        }
      ]
    },
    {
      "cell_type": "code",
      "source": [
        "sns.countplot(df_copy_train['Credit_Score'])\n",
        "plt.title('Distribution of Credit Score')\n",
        "plt.show()"
      ],
      "metadata": {
        "colab": {
          "base_uri": "https://localhost:8080/",
          "height": 351
        },
        "id": "gZZTnbO5bXJr",
        "outputId": "03eb0577-4d93-430c-8051-13648ce9f364"
      },
      "execution_count": 13,
      "outputs": [
        {
          "output_type": "stream",
          "name": "stderr",
          "text": [
            "/usr/local/lib/python3.8/dist-packages/seaborn/_decorators.py:36: FutureWarning: Pass the following variable as a keyword arg: x. From version 0.12, the only valid positional argument will be `data`, and passing other arguments without an explicit keyword will result in an error or misinterpretation.\n",
            "  warnings.warn(\n"
          ]
        },
        {
          "output_type": "display_data",
          "data": {
            "text/plain": [
              "<Figure size 432x288 with 1 Axes>"
            ],
            "image/png": "[encoded data removed]"
          },
          "metadata": {
            "needs_background": "light"
          }
        }
      ]
    },
    {
      "cell_type": "markdown",
      "source": [
        "Since Type of Loan feature had many values on it, I decided to take a look at its values instead of make a graph."
      ],
      "metadata": {
        "id": "IxywGBH-dXt4"
      }
    },
    {
      "cell_type": "code",
      "source": [
        "loans = df_copy_train['Type_of_Loan'].value_counts()\n",
        "loans.head()"
      ],
      "metadata": {
        "colab": {
          "base_uri": "https://localhost:8080/"
        },
        "id": "haIdmQUzbuP_",
        "outputId": "5b2bcf35-df40-43a0-9c29-2edac515b122"
      },
      "execution_count": 14,
      "outputs": [
        {
          "output_type": "execute_result",
          "data": {
            "text/plain": [
              "Not Specified              1408\n",
              "Credit-Builder Loan        1280\n",
              "Personal Loan              1272\n",
              "Debt Consolidation Loan    1264\n",
              "Student Loan               1240\n",
              "Name: Type_of_Loan, dtype: int64"
            ]
          },
          "metadata": {},
          "execution_count": 14
        }
      ]
    },
    {
      "cell_type": "markdown",
      "source": [
        "Because we have many features we're not going to use them, we can drop them"
      ],
      "metadata": {
        "id": "s775rrszwMbC"
      }
    },
    {
      "cell_type": "code",
      "source": [
        "df_copy_train.drop(['ID', 'Customer_ID', 'Month', 'Name', 'SSN', 'Type_of_Loan', 'Credit_History_Age'], axis = 1, inplace = True)"
      ],
      "metadata": {
        "id": "ANoM19E12CB9"
      },
      "execution_count": 15,
      "outputs": []
    },
    {
      "cell_type": "code",
      "source": [
        "print(f'Number of duplicates in train:{df_copy_train.duplicated().sum()}')"
      ],
      "metadata": {
        "colab": {
          "base_uri": "https://localhost:8080/"
        },
        "id": "D0FH2FM63gz6",
        "outputId": "31480a3c-aae9-42fd-fe7a-3ce8896a4dc3"
      },
      "execution_count": 16,
      "outputs": [
        {
          "output_type": "stream",
          "name": "stdout",
          "text": [
            "Number of duplicates in train:0\n"
          ]
        }
      ]
    },
    {
      "cell_type": "code",
      "source": [
        "df_copy_train['Num_Credit_Card'].replace(0, 1, inplace = True)"
      ],
      "metadata": {
        "id": "T7NAVgDT6RjN"
      },
      "execution_count": 17,
      "outputs": []
    },
    {
      "cell_type": "code",
      "source": [
        "df_copy_train['Payment_of_Min_Amount'].replace('NM', 'No', inplace = True) #because we have NM values we must change them to No values"
      ],
      "metadata": {
        "id": "EzVvOkEE6VQF"
      },
      "execution_count": 18,
      "outputs": []
    },
    {
      "cell_type": "code",
      "source": [
        "df_copy_train['Payment_Behaviour'].replace('!@9#%8', inplace = True) #At the same ime here we have some strange values like this one"
      ],
      "metadata": {
        "id": "-aY985rg8djZ"
      },
      "execution_count": 19,
      "outputs": []
    },
    {
      "cell_type": "code",
      "source": [
        "df_copy_train['Occupation'].replace('_______', inplace = True) #since we have values like '_______' as we saw earilier, we must replace them"
      ],
      "metadata": {
        "id": "MKKZKMJi8zSg"
      },
      "execution_count": 20,
      "outputs": []
    },
    {
      "cell_type": "code",
      "source": [
        "df_copy_train['Occupation'].value_counts()"
      ],
      "metadata": {
        "colab": {
          "base_uri": "https://localhost:8080/"
        },
        "id": "c7olXTCApeui",
        "outputId": "3bdcaea2-6db6-461b-8a2f-6f2dc8661b8b"
      },
      "execution_count": 21,
      "outputs": [
        {
          "output_type": "execute_result",
          "data": {
            "text/plain": [
              "Lawyer           7097\n",
              "Engineer         6849\n",
              "Architect        6832\n",
              "Mechanic         6775\n",
              "Scientist        6746\n",
              "Accountant       6745\n",
              "Media_Manager    6732\n",
              "Developer        6712\n",
              "Teacher          6685\n",
              "Entrepreneur     6653\n",
              "Doctor           6564\n",
              "Journalist       6534\n",
              "Manager          6422\n",
              "Musician         6345\n",
              "Writer           6309\n",
              "Name: Occupation, dtype: int64"
            ]
          },
          "metadata": {},
          "execution_count": 21
        }
      ]
    },
    {
      "cell_type": "code",
      "source": [
        "df_copy_train['Credit_Mix'].replace('_', inplace = True) #like in the previous one we have to replace this part of '_' value   "
      ],
      "metadata": {
        "id": "6Sa3ag4moVIr"
      },
      "execution_count": 22,
      "outputs": []
    },
    {
      "cell_type": "code",
      "source": [
        "df_copy_train['Credit_Mix'].value_counts()"
      ],
      "metadata": {
        "colab": {
          "base_uri": "https://localhost:8080/"
        },
        "id": "kN5bB75opB8q",
        "outputId": "f12ea901-2805-42c1-a2e6-aea973163ef0"
      },
      "execution_count": 23,
      "outputs": [
        {
          "output_type": "execute_result",
          "data": {
            "text/plain": [
              "Standard    45820\n",
              "Good        30351\n",
              "Bad         23828\n",
              "_               1\n",
              "Name: Credit_Mix, dtype: int64"
            ]
          },
          "metadata": {},
          "execution_count": 23
        }
      ]
    },
    {
      "cell_type": "code",
      "source": [
        "#We're still having one '_' value so we can use this function in order to drop it\n",
        "sol = {'Bad' : 0, 'Good' : 1, 'Standard' :  2, '_' : np.nan}\n",
        "df_copy_train['Credit_Mix'] = df_copy_train['Credit_Mix'].map(sol)\n",
        "df_copy_train['Credit_Mix'].value_counts()"
      ],
      "metadata": {
        "colab": {
          "base_uri": "https://localhost:8080/"
        },
        "id": "p6rzFQBT8gHA",
        "outputId": "10d92e29-8357-4693-a75a-70a08374f8bd"
      },
      "execution_count": 24,
      "outputs": [
        {
          "output_type": "execute_result",
          "data": {
            "text/plain": [
              "2.0    45820\n",
              "1.0    30351\n",
              "0.0    23828\n",
              "Name: Credit_Mix, dtype: int64"
            ]
          },
          "metadata": {},
          "execution_count": 24
        }
      ]
    },
    {
      "cell_type": "markdown",
      "source": [
        "Let's check numerical values only"
      ],
      "metadata": {
        "id": "vHMzNdo69huy"
      }
    },
    {
      "cell_type": "code",
      "source": [
        "nums = df_copy_train.select_dtypes(exclude = 'object').columns[1:]\n",
        "nums"
      ],
      "metadata": {
        "colab": {
          "base_uri": "https://localhost:8080/"
        },
        "id": "7hUdBIobqKyw",
        "outputId": "4a8d49a2-e943-40bb-f8ed-5140048bd1d5"
      },
      "execution_count": 25,
      "outputs": [
        {
          "output_type": "execute_result",
          "data": {
            "text/plain": [
              "Index(['Num_Bank_Accounts', 'Num_Credit_Card', 'Interest_Rate',\n",
              "       'Delay_from_due_date', 'Num_Credit_Inquiries', 'Credit_Mix',\n",
              "       'Credit_Utilization_Ratio', 'Total_EMI_per_month'],\n",
              "      dtype='object')"
            ]
          },
          "metadata": {},
          "execution_count": 25
        }
      ]
    },
    {
      "cell_type": "code",
      "source": [
        "df_copy_train['Payment_Behaviour'].value_counts()"
      ],
      "metadata": {
        "colab": {
          "base_uri": "https://localhost:8080/"
        },
        "id": "OtC1V7-rqMbz",
        "outputId": "2b719029-6665-4471-ff50-42b270a73f83"
      },
      "execution_count": 26,
      "outputs": [
        {
          "output_type": "execute_result",
          "data": {
            "text/plain": [
              "Low_spent_Small_value_payments      27593\n",
              "High_spent_Medium_value_payments    19010\n",
              "Low_spent_Medium_value_payments     14987\n",
              "High_spent_Large_value_payments     14863\n",
              "High_spent_Small_value_payments     12250\n",
              "Low_spent_Large_value_payments      11297\n",
              "Name: Payment_Behaviour, dtype: int64"
            ]
          },
          "metadata": {},
          "execution_count": 26
        }
      ]
    },
    {
      "cell_type": "code",
      "source": [
        "impute = SimpleImputer(strategy = 'most_frequent')\n",
        "impute.fit(df_copy_train[['Payment_Behaviour']])\n",
        "df_copy_train[['Payment_Behaviour']] = impute.transform(df_copy_train[['Payment_Behaviour']])\n"
      ],
      "metadata": {
        "id": "wnFodISYvhTJ"
      },
      "execution_count": 27,
      "outputs": []
    },
    {
      "cell_type": "code",
      "source": [
        "isnull()"
      ],
      "metadata": {
        "id": "yCBC5vdl3mZG",
        "colab": {
          "base_uri": "https://localhost:8080/"
        },
        "outputId": "3eb6f249-5ee0-43c9-aaeb-5930b5470a88"
      },
      "execution_count": 28,
      "outputs": [
        {
          "output_type": "execute_result",
          "data": {
            "text/plain": [
              "Age                             0\n",
              "Occupation                      0\n",
              "Annual_Income                   0\n",
              "Monthly_Inhand_Salary       15002\n",
              "Num_Bank_Accounts               0\n",
              "Num_Credit_Card                 0\n",
              "Interest_Rate                   0\n",
              "Num_of_Loan                     0\n",
              "Delay_from_due_date             0\n",
              "Num_of_Delayed_Payment       7002\n",
              "Changed_Credit_Limit            0\n",
              "Num_Credit_Inquiries         1965\n",
              "Credit_Mix                      1\n",
              "Outstanding_Debt                0\n",
              "Credit_Utilization_Ratio        0\n",
              "Payment_of_Min_Amount           0\n",
              "Total_EMI_per_month             0\n",
              "Amount_invested_monthly      4479\n",
              "Payment_Behaviour               0\n",
              "Monthly_Balance              1200\n",
              "Credit_Score                    0\n",
              "dtype: int64"
            ]
          },
          "metadata": {},
          "execution_count": 28
        }
      ]
    },
    {
      "cell_type": "markdown",
      "source": [
        "Fill the null values of monthly inhad salary\n",
        "\n"
      ],
      "metadata": {
        "id": "M5j7s2jlH769"
      }
    },
    {
      "cell_type": "code",
      "source": [
        "fill_list = df_copy_train['Monthly_Inhand_Salary'].dropna().tolist()\n",
        "df_copy_train['Monthly_Inhand_Salary'] = df_copy_train['Monthly_Inhand_Salary'].fillna(pd.Series(np.random.choice(fill_list , size = len(df_copy_train.index))))"
      ],
      "metadata": {
        "id": "VWxhCa5dFclL"
      },
      "execution_count": 29,
      "outputs": []
    },
    {
      "cell_type": "code",
      "source": [
        "plt.figure(figsize = (20, 8))\n",
        "sns.histplot(data = df_copy_train, x = df_copy_train['Monthly_Inhand_Salary'])\n",
        "plt.show()"
      ],
      "metadata": {
        "colab": {
          "base_uri": "https://localhost:8080/",
          "height": 403
        },
        "id": "Zoyju0HiGRXv",
        "outputId": "7080884f-14df-46b6-f15a-c08278e9489f"
      },
      "execution_count": 30,
      "outputs": [
        {
          "output_type": "display_data",
          "data": {
            "text/plain": [
              "<Figure size 1440x576 with 1 Axes>"
            ],
            "image/png": "[encoded data removed]"
          },
          "metadata": {
            "needs_background": "light"
          }
        }
      ]
    },
    {
      "cell_type": "markdown",
      "source": [
        "Fill the null values of delayed payment "
      ],
      "metadata": {
        "id": "qS7SPYPHIDVC"
      }
    },
    {
      "cell_type": "code",
      "source": [
        "fill_list = df_copy_train['Num_of_Delayed_Payment'].dropna().tolist()\n",
        "df_copy_train['Num_of_Delayed_Payment'] = df_copy_train['Num_of_Delayed_Payment'].fillna(pd.Series(np.random.choice(fill_list, size = len(df_copy_train.index))))"
      ],
      "metadata": {
        "id": "lrYRn4D3HWOR"
      },
      "execution_count": 31,
      "outputs": []
    },
    {
      "cell_type": "markdown",
      "source": [
        "Fill the null values of num credit inqueries"
      ],
      "metadata": {
        "id": "ZdOKJrbuIn5z"
      }
    },
    {
      "cell_type": "code",
      "source": [
        "fill_list = df_copy_train['Num_Credit_Inquiries'].dropna().tolist()\n",
        "df_copy_train['Num_Credit_Inquiries'] = df_copy_train['Num_Credit_Inquiries'].fillna(pd.Series(np.random.choice(fill_list, size = len(df_copy_train.index))))"
      ],
      "metadata": {
        "id": "z2s6kzPTIeQQ"
      },
      "execution_count": 32,
      "outputs": []
    },
    {
      "cell_type": "markdown",
      "source": [
        "Fill the null values of Amount Invested Monthly"
      ],
      "metadata": {
        "id": "87MS5kgCJGcR"
      }
    },
    {
      "cell_type": "code",
      "source": [
        "fill_list = df_copy_train['Amount_invested_monthly'].dropna().tolist()\n",
        "df_copy_train['Amount_invested_monthly'] = df_copy_train['Amount_invested_monthly'].fillna(pd.Series(np.random.choice(fill_list, size = len(df_copy_train.index))))"
      ],
      "metadata": {
        "id": "QRchGZxdI1n3"
      },
      "execution_count": 33,
      "outputs": []
    },
    {
      "cell_type": "markdown",
      "source": [
        "Fill the null values of Montly Balance"
      ],
      "metadata": {
        "id": "iZ6eI7QaJTPM"
      }
    },
    {
      "cell_type": "code",
      "source": [
        "fill_list = df_copy_train['Monthly_Balance'].dropna().tolist()\n",
        "df_copy_train['Monthly_Balance'] = df_copy_train['Monthly_Balance'].fillna(pd.Series(np.random.choice(fill_list, size = len(df_copy_train.index))))"
      ],
      "metadata": {
        "id": "qb7kcZtvJScd"
      },
      "execution_count": 79,
      "outputs": []
    },
    {
      "cell_type": "markdown",
      "source": [
        "Fill the null value of Credit Mix"
      ],
      "metadata": {
        "id": "uBQYOOo7KQup"
      }
    },
    {
      "cell_type": "code",
      "source": [
        "fill_list = df_copy_train['Credit_Mix'].dropna().tolist()\n",
        "df_copy_train['Credit_Mix'] = df_copy_train['Credit_Mix'].fillna(pd.Series(np.random.choice(fill_list, size = len(df_copy_train.index))))"
      ],
      "metadata": {
        "id": "Tm4HTSfhKQAB"
      },
      "execution_count": 35,
      "outputs": []
    },
    {
      "cell_type": "markdown",
      "source": [
        "Fill the null values of Changed_Credit_Limit        "
      ],
      "metadata": {
        "id": "w8bhSf9-Zrhi"
      }
    },
    {
      "cell_type": "code",
      "source": [
        "fill_list = df_copy_train['Changed_Credit_Limit'].dropna().tolist()\n",
        "df_copy_train['Changed_Credit_Limit'] = df_copy_train['Changed_Credit_Limit'].fillna(pd.Series(np.random.choice(fill_list, size = len(df_copy_train.index))))"
      ],
      "metadata": {
        "id": "BxiFmf7FZusv"
      },
      "execution_count": 78,
      "outputs": []
    },
    {
      "cell_type": "code",
      "source": [
        "df_copy_train.shape"
      ],
      "metadata": {
        "colab": {
          "base_uri": "https://localhost:8080/"
        },
        "id": "xpNOjCA9J0m-",
        "outputId": "15a5295f-87fe-44dc-a2af-b35153c456ee"
      },
      "execution_count": 37,
      "outputs": [
        {
          "output_type": "execute_result",
          "data": {
            "text/plain": [
              "(100000, 21)"
            ]
          },
          "metadata": {},
          "execution_count": 37
        }
      ]
    },
    {
      "cell_type": "code",
      "source": [
        "rows = ['Age', 'Annual_Income', 'Num_of_Loan', 'Num_of_Delayed_Payment', 'Changed_Credit_Limit', 'Outstanding_Debt', 'Amount_invested_monthly', 'Monthly_Balance']\n",
        "pd.set_option('mode.chained_assignment', None)\n",
        "for i in rows:    #to change object values to numeric\n",
        "  df_copy_train[i] = df_copy_train[i].str.replace(r'_+', '')\n",
        "for k in rows:\n",
        "  df_copy_train[k] = pd.to_numeric(df_copy_train[k], errors = 'coerce')\n"
      ],
      "metadata": {
        "colab": {
          "base_uri": "https://localhost:8080/"
        },
        "id": "OUKKLIgBKek4",
        "outputId": "d5438108-76d9-49db-b886-4646f555278b"
      },
      "execution_count": 38,
      "outputs": [
        {
          "output_type": "stream",
          "name": "stderr",
          "text": [
            "<ipython-input-38-132108e367b6>:4: FutureWarning: The default value of regex will change from True to False in a future version.\n",
            "  df_copy_train[i] = df_copy_train[i].str.replace(r'_+', '')\n"
          ]
        }
      ]
    },
    {
      "cell_type": "code",
      "source": [
        "df_copy_train.info()"
      ],
      "metadata": {
        "colab": {
          "base_uri": "https://localhost:8080/"
        },
        "id": "2fUTtvSiPNRs",
        "outputId": "65e9237f-9f1c-43ef-f9f0-959e1ae55cdf"
      },
      "execution_count": 39,
      "outputs": [
        {
          "output_type": "stream",
          "name": "stdout",
          "text": [
            "<class 'pandas.core.frame.DataFrame'>\n",
            "RangeIndex: 100000 entries, 0 to 99999\n",
            "Data columns (total 21 columns):\n",
            " #   Column                    Non-Null Count   Dtype  \n",
            "---  ------                    --------------   -----  \n",
            " 0   Age                       100000 non-null  int64  \n",
            " 1   Occupation                100000 non-null  object \n",
            " 2   Annual_Income             100000 non-null  float64\n",
            " 3   Monthly_Inhand_Salary     100000 non-null  float64\n",
            " 4   Num_Bank_Accounts         100000 non-null  int64  \n",
            " 5   Num_Credit_Card           100000 non-null  int64  \n",
            " 6   Interest_Rate             100000 non-null  int64  \n",
            " 7   Num_of_Loan               100000 non-null  int64  \n",
            " 8   Delay_from_due_date       100000 non-null  int64  \n",
            " 9   Num_of_Delayed_Payment    100000 non-null  int64  \n",
            " 10  Changed_Credit_Limit      97909 non-null   float64\n",
            " 11  Num_Credit_Inquiries      100000 non-null  float64\n",
            " 12  Credit_Mix                100000 non-null  float64\n",
            " 13  Outstanding_Debt          100000 non-null  float64\n",
            " 14  Credit_Utilization_Ratio  100000 non-null  float64\n",
            " 15  Payment_of_Min_Amount     100000 non-null  object \n",
            " 16  Total_EMI_per_month       100000 non-null  float64\n",
            " 17  Amount_invested_monthly   100000 non-null  float64\n",
            " 18  Payment_Behaviour         100000 non-null  object \n",
            " 19  Monthly_Balance           98332 non-null   float64\n",
            " 20  Credit_Score              100000 non-null  object \n",
            "dtypes: float64(10), int64(7), object(4)\n",
            "memory usage: 16.0+ MB\n"
          ]
        }
      ]
    },
    {
      "cell_type": "code",
      "source": [
        "isnull()"
      ],
      "metadata": {
        "colab": {
          "base_uri": "https://localhost:8080/"
        },
        "id": "1fFTu4hGYOdc",
        "outputId": "569c2c23-176d-4b9e-eb81-370c21231592"
      },
      "execution_count": 40,
      "outputs": [
        {
          "output_type": "execute_result",
          "data": {
            "text/plain": [
              "Age                            0\n",
              "Occupation                     0\n",
              "Annual_Income                  0\n",
              "Monthly_Inhand_Salary          0\n",
              "Num_Bank_Accounts              0\n",
              "Num_Credit_Card                0\n",
              "Interest_Rate                  0\n",
              "Num_of_Loan                    0\n",
              "Delay_from_due_date            0\n",
              "Num_of_Delayed_Payment         0\n",
              "Changed_Credit_Limit        2091\n",
              "Num_Credit_Inquiries           0\n",
              "Credit_Mix                     0\n",
              "Outstanding_Debt               0\n",
              "Credit_Utilization_Ratio       0\n",
              "Payment_of_Min_Amount          0\n",
              "Total_EMI_per_month            0\n",
              "Amount_invested_monthly        0\n",
              "Payment_Behaviour              0\n",
              "Monthly_Balance             1668\n",
              "Credit_Score                   0\n",
              "dtype: int64"
            ]
          },
          "metadata": {},
          "execution_count": 40
        }
      ]
    },
    {
      "cell_type": "markdown",
      "source": [
        "Outliers in Age"
      ],
      "metadata": {
        "id": "e1rd1WM0ak-1"
      }
    },
    {
      "cell_type": "code",
      "source": [
        "((df_copy_train['Age'] <= 100) & (df_copy_train['Age'] >= 0)).value_counts()"
      ],
      "metadata": {
        "colab": {
          "base_uri": "https://localhost:8080/"
        },
        "id": "CmdZwKK3aXM1",
        "outputId": "30a5d2ca-43ea-42df-eb98-2046f7070f70"
      },
      "execution_count": 41,
      "outputs": [
        {
          "output_type": "execute_result",
          "data": {
            "text/plain": [
              "True     97224\n",
              "False     2776\n",
              "Name: Age, dtype: int64"
            ]
          },
          "metadata": {},
          "execution_count": 41
        }
      ]
    },
    {
      "cell_type": "code",
      "source": [
        "df = df_copy_train[(df_copy_train['Age'] <= 100) & (df_copy_train['Age'] >= 0)]\n",
        "#df"
      ],
      "metadata": {
        "id": "RGJm5_y2atpc"
      },
      "execution_count": 42,
      "outputs": []
    },
    {
      "cell_type": "markdown",
      "source": [
        "Outliers in Annual Income"
      ],
      "metadata": {
        "id": "8vKKQrxrWNHF"
      }
    },
    {
      "cell_type": "code",
      "source": [
        "((df_copy_train['Annual_Income'] <= 300000) & (df_copy_train['Annual_Income'] >= 0)).value_counts()"
      ],
      "metadata": {
        "id": "bEvf4U9Da6gr",
        "colab": {
          "base_uri": "https://localhost:8080/"
        },
        "outputId": "56350097-cdd4-4195-c2cc-0f16be0d30d6"
      },
      "execution_count": 43,
      "outputs": [
        {
          "output_type": "execute_result",
          "data": {
            "text/plain": [
              "True     99007\n",
              "False      993\n",
              "Name: Annual_Income, dtype: int64"
            ]
          },
          "metadata": {},
          "execution_count": 43
        }
      ]
    },
    {
      "cell_type": "code",
      "source": [
        "df = df_copy_train[(df_copy_train['Annual_Income'] <= 300000)& (df_copy_train['Annual_Income'] >= 0) ]"
      ],
      "metadata": {
        "id": "fs-KtPpgWgJ0"
      },
      "execution_count": 44,
      "outputs": []
    },
    {
      "cell_type": "markdown",
      "source": [
        "Outliers in Monthly Inhad Salary"
      ],
      "metadata": {
        "id": "GajN6tgeXNpV"
      }
    },
    {
      "cell_type": "code",
      "source": [
        "((df_copy_train['Monthly_Inhand_Salary'] <= 1500) & (df_copy_train['Monthly_Inhand_Salary'] >= 0)).value_counts()"
      ],
      "metadata": {
        "colab": {
          "base_uri": "https://localhost:8080/"
        },
        "id": "ecVHRU80WrNU",
        "outputId": "b1aa6eb9-74af-4544-808c-96c1472161af"
      },
      "execution_count": 45,
      "outputs": [
        {
          "output_type": "execute_result",
          "data": {
            "text/plain": [
              "False    78887\n",
              "True     21113\n",
              "Name: Monthly_Inhand_Salary, dtype: int64"
            ]
          },
          "metadata": {},
          "execution_count": 45
        }
      ]
    },
    {
      "cell_type": "code",
      "source": [
        "df = df_copy_train[(df_copy_train['Monthly_Inhand_Salary'] <= 1500)& (df_copy_train['Monthly_Inhand_Salary'] >= 0) ]"
      ],
      "metadata": {
        "id": "33TZSxTmXgjv"
      },
      "execution_count": 46,
      "outputs": []
    },
    {
      "cell_type": "markdown",
      "source": [
        "Outliers in Number of Bank Accounts"
      ],
      "metadata": {
        "id": "BkQBuMrAYUJy"
      }
    },
    {
      "cell_type": "code",
      "source": [
        "((df_copy_train['Num_Bank_Accounts'] <= 750) & (df_copy_train['Num_Bank_Accounts'] >= 0)).value_counts()"
      ],
      "metadata": {
        "colab": {
          "base_uri": "https://localhost:8080/"
        },
        "id": "m2cObVC1X01V",
        "outputId": "38268eb2-1a9f-4723-9846-cbabdb0e5bcd"
      },
      "execution_count": 47,
      "outputs": [
        {
          "output_type": "execute_result",
          "data": {
            "text/plain": [
              "True     99207\n",
              "False      793\n",
              "Name: Num_Bank_Accounts, dtype: int64"
            ]
          },
          "metadata": {},
          "execution_count": 47
        }
      ]
    },
    {
      "cell_type": "code",
      "source": [
        "df = df_copy_train[(df_copy_train['Num_Bank_Accounts'] <= 750)& (df_copy_train['Num_Bank_Accounts'] >= 0) ]"
      ],
      "metadata": {
        "id": "BUo0-pE0YlEq"
      },
      "execution_count": 48,
      "outputs": []
    },
    {
      "cell_type": "markdown",
      "source": [
        "Outliers in Number of Credit Card"
      ],
      "metadata": {
        "id": "l5CjDDKeZAPx"
      }
    },
    {
      "cell_type": "code",
      "source": [
        "((df_copy_train['Num_Credit_Card'] <= 1000) & (df_copy_train['Num_Bank_Accounts'] >= 0)).value_counts()"
      ],
      "metadata": {
        "colab": {
          "base_uri": "https://localhost:8080/"
        },
        "id": "jdfeAjoSYrzn",
        "outputId": "06f03319-0831-4bfd-9913-06606c4dbbcf"
      },
      "execution_count": 49,
      "outputs": [
        {
          "output_type": "execute_result",
          "data": {
            "text/plain": [
              "True     99205\n",
              "False      795\n",
              "dtype: int64"
            ]
          },
          "metadata": {},
          "execution_count": 49
        }
      ]
    },
    {
      "cell_type": "code",
      "source": [
        "df = df_copy_train[(df_copy_train['Num_Credit_Card'] <= 1000)& (df_copy_train['Num_Credit_Card'] >= 0) ]"
      ],
      "metadata": {
        "id": "G20RH5fyZF2E"
      },
      "execution_count": 50,
      "outputs": []
    },
    {
      "cell_type": "markdown",
      "source": [
        "Outliers in Interest Rate"
      ],
      "metadata": {
        "id": "U1Wngz4fZGZO"
      }
    },
    {
      "cell_type": "code",
      "source": [
        "((df_copy_train['Interest_Rate'] <= 5000) & (df_copy_train['Interest_Rate'] >= 0)).value_counts()"
      ],
      "metadata": {
        "colab": {
          "base_uri": "https://localhost:8080/"
        },
        "id": "Ok9tzQAEZJZb",
        "outputId": "8a4b4e5d-a8c3-4cee-d361-97b9097e68ec"
      },
      "execution_count": 51,
      "outputs": [
        {
          "output_type": "execute_result",
          "data": {
            "text/plain": [
              "True     99740\n",
              "False      260\n",
              "Name: Interest_Rate, dtype: int64"
            ]
          },
          "metadata": {},
          "execution_count": 51
        }
      ]
    },
    {
      "cell_type": "code",
      "source": [
        "df = df_copy_train[(df_copy_train['Interest_Rate'] <= 5000)& (df_copy_train['Interest_Rate'] >= 0) ]"
      ],
      "metadata": {
        "id": "xVzVwdNSb933"
      },
      "execution_count": 52,
      "outputs": []
    },
    {
      "cell_type": "markdown",
      "source": [
        "Outliers Number of Loan"
      ],
      "metadata": {
        "id": "yIrK7mgpcWyQ"
      }
    },
    {
      "cell_type": "code",
      "source": [
        "((df_copy_train['Num_of_Loan'] <= 1100) & (df_copy_train['Num_of_Loan'] >= 0)).value_counts()"
      ],
      "metadata": {
        "colab": {
          "base_uri": "https://localhost:8080/"
        },
        "id": "rcDemnbZcKV8",
        "outputId": "1197f3d3-53b3-4e48-e4e7-614d54418e4b"
      },
      "execution_count": 53,
      "outputs": [
        {
          "output_type": "execute_result",
          "data": {
            "text/plain": [
              "True     95994\n",
              "False     4006\n",
              "Name: Num_of_Loan, dtype: int64"
            ]
          },
          "metadata": {},
          "execution_count": 53
        }
      ]
    },
    {
      "cell_type": "code",
      "source": [
        "df = df_copy_train[(df_copy_train['Num_of_Loan'] <= 1100) & (df_copy_train['Num_of_Loan'] >= 0) ]"
      ],
      "metadata": {
        "id": "c1KsAGyQcdO9"
      },
      "execution_count": 54,
      "outputs": []
    },
    {
      "cell_type": "markdown",
      "source": [
        "Outliers Delay from due date"
      ],
      "metadata": {
        "id": "Q_TcLaaRc6Gk"
      }
    },
    {
      "cell_type": "code",
      "source": [
        "((df_copy_train['Delay_from_due_date'] <= 65) & (df_copy_train['Delay_from_due_date'] >= 0)).value_counts()"
      ],
      "metadata": {
        "colab": {
          "base_uri": "https://localhost:8080/"
        },
        "id": "HE4SFxHzck8d",
        "outputId": "aa1d3142-5d54-4286-d33d-d3465e9a9da3"
      },
      "execution_count": 55,
      "outputs": [
        {
          "output_type": "execute_result",
          "data": {
            "text/plain": [
              "True     99355\n",
              "False      645\n",
              "Name: Delay_from_due_date, dtype: int64"
            ]
          },
          "metadata": {},
          "execution_count": 55
        }
      ]
    },
    {
      "cell_type": "code",
      "source": [
        "df = df_copy_train[(df_copy_train['Delay_from_due_date'] <= 65) & (df_copy_train['Delay_from_due_date'] >= 0) ]"
      ],
      "metadata": {
        "id": "ztzq4VgDdBMd"
      },
      "execution_count": 56,
      "outputs": []
    },
    {
      "cell_type": "markdown",
      "source": [
        "Outliers Number of Delayed Payment"
      ],
      "metadata": {
        "id": "WEYSHdxFdRkw"
      }
    },
    {
      "cell_type": "code",
      "source": [
        "((df_copy_train['Num_of_Delayed_Payment'] <= 1000) & (df_copy_train['Num_of_Delayed_Payment'] >= 0)).value_counts()"
      ],
      "metadata": {
        "colab": {
          "base_uri": "https://localhost:8080/"
        },
        "id": "WsUrnxRcdI_p",
        "outputId": "23003d9b-2ad3-478f-d7a4-71ac847695ad"
      },
      "execution_count": 57,
      "outputs": [
        {
          "output_type": "execute_result",
          "data": {
            "text/plain": [
              "True     98681\n",
              "False     1319\n",
              "Name: Num_of_Delayed_Payment, dtype: int64"
            ]
          },
          "metadata": {},
          "execution_count": 57
        }
      ]
    },
    {
      "cell_type": "code",
      "source": [
        "df = df_copy_train[(df_copy_train['Num_of_Delayed_Payment'] <= 1000) & (df_copy_train['Num_of_Delayed_Payment'] >= 0) ]"
      ],
      "metadata": {
        "id": "M3kxDnzYda4Y"
      },
      "execution_count": 58,
      "outputs": []
    },
    {
      "cell_type": "markdown",
      "source": [
        "Outliers Changed Credit Limit"
      ],
      "metadata": {
        "id": "h1RguDRAd3pN"
      }
    },
    {
      "cell_type": "code",
      "source": [
        "((df_copy_train['Changed_Credit_Limit'] <= 30) & (df_copy_train['Changed_Credit_Limit'] >= 0)).value_counts()"
      ],
      "metadata": {
        "colab": {
          "base_uri": "https://localhost:8080/"
        },
        "id": "bFIyQKJodhKO",
        "outputId": "de86f8dd-f86d-46a8-ab3d-6fe67dee24cf"
      },
      "execution_count": 59,
      "outputs": [
        {
          "output_type": "execute_result",
          "data": {
            "text/plain": [
              "True     96068\n",
              "False     3932\n",
              "Name: Changed_Credit_Limit, dtype: int64"
            ]
          },
          "metadata": {},
          "execution_count": 59
        }
      ]
    },
    {
      "cell_type": "code",
      "source": [
        "df = df_copy_train[(df_copy_train['Changed_Credit_Limit'] <= 30) & (df_copy_train['Changed_Credit_Limit'] >= 0) ]"
      ],
      "metadata": {
        "id": "oSM1F7oneTnj"
      },
      "execution_count": 60,
      "outputs": []
    },
    {
      "cell_type": "markdown",
      "source": [
        "Outliers Number of Credit Inqueries"
      ],
      "metadata": {
        "id": "si8L4sSqekEH"
      }
    },
    {
      "cell_type": "code",
      "source": [
        "((df_copy_train['Num_Credit_Inquiries'] <= 2400) & (df_copy_train['Num_Credit_Inquiries'] >= 0)).value_counts()"
      ],
      "metadata": {
        "colab": {
          "base_uri": "https://localhost:8080/"
        },
        "id": "k_4jClxceZW6",
        "outputId": "39557aff-6bb9-46fe-a5f8-f7ff56c3bd1c"
      },
      "execution_count": 61,
      "outputs": [
        {
          "output_type": "execute_result",
          "data": {
            "text/plain": [
              "True     99889\n",
              "False      111\n",
              "Name: Num_Credit_Inquiries, dtype: int64"
            ]
          },
          "metadata": {},
          "execution_count": 61
        }
      ]
    },
    {
      "cell_type": "code",
      "source": [
        "df = df_copy_train[(df_copy_train['Num_Credit_Inquiries'] <= 2400) & (df_copy_train['Num_Credit_Inquiries'] >= 0) ]"
      ],
      "metadata": {
        "id": "aUvbyPQ_evfb"
      },
      "execution_count": 62,
      "outputs": []
    },
    {
      "cell_type": "markdown",
      "source": [
        "Outliers Outstanding Debt"
      ],
      "metadata": {
        "id": "tzzjhKrifAIH"
      }
    },
    {
      "cell_type": "code",
      "source": [
        "((df_copy_train['Outstanding_Debt'] <= 4950) & (df_copy_train['Outstanding_Debt'] >= 0)).value_counts()"
      ],
      "metadata": {
        "colab": {
          "base_uri": "https://localhost:8080/"
        },
        "id": "rlJCdY6ye5RD",
        "outputId": "3c7d0a4f-b324-44fb-9d8e-8306aea6eaf4"
      },
      "execution_count": 63,
      "outputs": [
        {
          "output_type": "execute_result",
          "data": {
            "text/plain": [
              "True     99680\n",
              "False      320\n",
              "Name: Outstanding_Debt, dtype: int64"
            ]
          },
          "metadata": {},
          "execution_count": 63
        }
      ]
    },
    {
      "cell_type": "code",
      "source": [
        "df = df_copy_train[(df_copy_train['Outstanding_Debt'] <= 4950) & (df_copy_train['Outstanding_Debt'] >= 0) ]"
      ],
      "metadata": {
        "id": "uWurnTuCfJyC"
      },
      "execution_count": 64,
      "outputs": []
    },
    {
      "cell_type": "markdown",
      "source": [
        "Outliers Credit Utilization Ratio"
      ],
      "metadata": {
        "id": "Bzf7PQkbfc80"
      }
    },
    {
      "cell_type": "code",
      "source": [
        "((df_copy_train['Credit_Utilization_Ratio'] <= 45) & (df_copy_train['Credit_Utilization_Ratio'] >= 0)).value_counts()"
      ],
      "metadata": {
        "colab": {
          "base_uri": "https://localhost:8080/"
        },
        "id": "5RuC8jfofOZo",
        "outputId": "dc8616a1-1652-4bd1-e5ff-583f6944692e"
      },
      "execution_count": 65,
      "outputs": [
        {
          "output_type": "execute_result",
          "data": {
            "text/plain": [
              "True     99836\n",
              "False      164\n",
              "Name: Credit_Utilization_Ratio, dtype: int64"
            ]
          },
          "metadata": {},
          "execution_count": 65
        }
      ]
    },
    {
      "cell_type": "code",
      "source": [
        "df = df_copy_train[(df_copy_train['Credit_Utilization_Ratio'] <= 45) & (df_copy_train['Credit_Utilization_Ratio'] >= 0) ]"
      ],
      "metadata": {
        "id": "NJZxidnkfkxF"
      },
      "execution_count": 66,
      "outputs": []
    },
    {
      "cell_type": "markdown",
      "source": [
        "Outliers Total EMI"
      ],
      "metadata": {
        "id": "sXL-ALKGf0Fg"
      }
    },
    {
      "cell_type": "code",
      "source": [
        "((df_copy_train['Total_EMI_per_month'] <= 75000) & (df_copy_train['Total_EMI_per_month'] >= 0)).value_counts()"
      ],
      "metadata": {
        "colab": {
          "base_uri": "https://localhost:8080/"
        },
        "id": "G5aWf_DEfpsn",
        "outputId": "368e67e8-f2ba-41d1-e4bc-04975ef0ad14"
      },
      "execution_count": 67,
      "outputs": [
        {
          "output_type": "execute_result",
          "data": {
            "text/plain": [
              "True     99725\n",
              "False      275\n",
              "Name: Total_EMI_per_month, dtype: int64"
            ]
          },
          "metadata": {},
          "execution_count": 67
        }
      ]
    },
    {
      "cell_type": "code",
      "source": [
        "df = df_copy_train[(df_copy_train['Total_EMI_per_month'] <= 75000) & (df_copy_train['Total_EMI_per_month'] >= 0) ]"
      ],
      "metadata": {
        "id": "0iNm55UZf9-d"
      },
      "execution_count": 68,
      "outputs": []
    },
    {
      "cell_type": "markdown",
      "source": [
        "Outliers Amount_invested_monthly "
      ],
      "metadata": {
        "id": "bOUj6qTCgLTQ"
      }
    },
    {
      "cell_type": "code",
      "source": [
        "((df_copy_train['Amount_invested_monthly'] <= 9000) & (df_copy_train['Amount_invested_monthly'] >= 0)).value_counts()"
      ],
      "metadata": {
        "colab": {
          "base_uri": "https://localhost:8080/"
        },
        "id": "fARX_3aGgDur",
        "outputId": "3d22b003-d7b5-4434-cc33-a134cb060190"
      },
      "execution_count": 69,
      "outputs": [
        {
          "output_type": "execute_result",
          "data": {
            "text/plain": [
              "True     95520\n",
              "False     4480\n",
              "Name: Amount_invested_monthly, dtype: int64"
            ]
          },
          "metadata": {},
          "execution_count": 69
        }
      ]
    },
    {
      "cell_type": "code",
      "source": [
        "df = df_copy_train[(df_copy_train['Amount_invested_monthly'] <= 9000) & (df_copy_train['Amount_invested_monthly'] >= 0) ]"
      ],
      "metadata": {
        "id": "EwENSE7vgS9H"
      },
      "execution_count": 70,
      "outputs": []
    },
    {
      "cell_type": "markdown",
      "source": [
        "Outliers Monthly_Balance"
      ],
      "metadata": {
        "id": "JSctUybngdaW"
      }
    },
    {
      "cell_type": "code",
      "source": [
        "((df_copy_train['Monthly_Balance'] > -1) ).value_counts()"
      ],
      "metadata": {
        "colab": {
          "base_uri": "https://localhost:8080/"
        },
        "id": "JRCJVpFugW5Q",
        "outputId": "5abbbdd0-1c72-44b2-e742-48eceb0a5dd3"
      },
      "execution_count": 71,
      "outputs": [
        {
          "output_type": "execute_result",
          "data": {
            "text/plain": [
              "True     98323\n",
              "False     1677\n",
              "Name: Monthly_Balance, dtype: int64"
            ]
          },
          "metadata": {},
          "execution_count": 71
        }
      ]
    },
    {
      "cell_type": "code",
      "source": [
        "df = df_copy_train[(df_copy_train['Monthly_Balance'] > -1)]"
      ],
      "metadata": {
        "id": "pJcVeh4AgpeX"
      },
      "execution_count": 72,
      "outputs": []
    },
    {
      "cell_type": "code",
      "source": [
        "sns.histplot(df_copy_train['Age'])\n",
        "plt.xlim([0,100])\n",
        "plt.show()"
      ],
      "metadata": {
        "colab": {
          "base_uri": "https://localhost:8080/",
          "height": 279
        },
        "id": "PV9ofYBagviD",
        "outputId": "81644621-23d7-43d6-9412-d125950162c7"
      },
      "execution_count": 73,
      "outputs": [
        {
          "output_type": "display_data",
          "data": {
            "text/plain": [
              "<Figure size 432x288 with 1 Axes>"
            ],
            "image/png": "[encoded data removed]"
          },
          "metadata": {
            "needs_background": "light"
          }
        }
      ]
    },
    {
      "cell_type": "code",
      "source": [
        "isnull()"
      ],
      "metadata": {
        "id": "lyqXODTxhGAU",
        "colab": {
          "base_uri": "https://localhost:8080/"
        },
        "outputId": "5912ec0e-7769-46f4-9136-f74d789f2d60"
      },
      "execution_count": 80,
      "outputs": [
        {
          "output_type": "execute_result",
          "data": {
            "text/plain": [
              "Age                         0\n",
              "Occupation                  0\n",
              "Annual_Income               0\n",
              "Monthly_Inhand_Salary       0\n",
              "Num_Bank_Accounts           0\n",
              "Num_Credit_Card             0\n",
              "Interest_Rate               0\n",
              "Num_of_Loan                 0\n",
              "Delay_from_due_date         0\n",
              "Num_of_Delayed_Payment      0\n",
              "Changed_Credit_Limit        0\n",
              "Num_Credit_Inquiries        0\n",
              "Credit_Mix                  0\n",
              "Outstanding_Debt            0\n",
              "Credit_Utilization_Ratio    0\n",
              "Payment_of_Min_Amount       0\n",
              "Total_EMI_per_month         0\n",
              "Amount_invested_monthly     0\n",
              "Payment_Behaviour           0\n",
              "Monthly_Balance             0\n",
              "Credit_Score                0\n",
              "dtype: int64"
            ]
          },
          "metadata": {},
          "execution_count": 80
        }
      ]
    },
    {
      "cell_type": "code",
      "source": [
        "numCols = ['Monthly_Inhand_Salary', 'Delay_from_due_date', 'Credit_Utilization_Ratio']\n",
        "for col in numCols:\n",
        "    plt.figure(figsize=(18,6))\n",
        "    sns.displot(x=col,data=df_copy_train, hue='Credit_Score', palette=[\"#ff006e\", \"#83c5be\", \"#3a0ca3\"])\n",
        "    plt.show()"
      ],
      "metadata": {
        "colab": {
          "base_uri": "https://localhost:8080/",
          "height": 1000
        },
        "id": "mrYrqicjgc4o",
        "outputId": "9538a467-d479-4ce9-bca1-4a8f911d41da"
      },
      "execution_count": 75,
      "outputs": [
        {
          "output_type": "display_data",
          "data": {
            "text/plain": [
              "<Figure size 1296x432 with 0 Axes>"
            ]
          },
          "metadata": {}
        },
        {
          "output_type": "display_data",
          "data": {
            "text/plain": [
              "<Figure size 441.5x360 with 1 Axes>"
            ],
            "image/png": "[encoded data removed]"
          },
          "metadata": {
            "needs_background": "light"
          }
        },
        {
          "output_type": "display_data",
          "data": {
            "text/plain": [
              "<Figure size 1296x432 with 0 Axes>"
            ]
          },
          "metadata": {}
        },
        {
          "output_type": "display_data",
          "data": {
            "text/plain": [
              "<Figure size 441.5x360 with 1 Axes>"
            ],
            "image/png": "[encoded data removed]"
          },
          "metadata": {
            "needs_background": "light"
          }
        },
        {
          "output_type": "display_data",
          "data": {
            "text/plain": [
              "<Figure size 1296x432 with 0 Axes>"
            ]
          },
          "metadata": {}
        },
        {
          "output_type": "display_data",
          "data": {
            "text/plain": [
              "<Figure size 441.5x360 with 1 Axes>"
            ],
            "image/png": "[encoded data removed]"
          },
          "metadata": {
            "needs_background": "light"
          }
        }
      ]
    },
    {
      "cell_type": "markdown",
      "source": [
        "Now we have all the data cleaned so we have to change everything to arrays in order to work with Scikit-Learn"
      ],
      "metadata": {
        "id": "PkIo3ZysfrCM"
      }
    },
    {
      "cell_type": "code",
      "source": [
        "df_copy_train.select_dtypes(['object']).columns"
      ],
      "metadata": {
        "colab": {
          "base_uri": "https://localhost:8080/"
        },
        "id": "YnJxJFrCbwrv",
        "outputId": "e95151fb-cd99-4fa4-d94f-16ee3bb0bfb4"
      },
      "execution_count": 76,
      "outputs": [
        {
          "output_type": "execute_result",
          "data": {
            "text/plain": [
              "Index(['Occupation', 'Payment_of_Min_Amount', 'Payment_Behaviour',\n",
              "       'Credit_Score'],\n",
              "      dtype='object')"
            ]
          },
          "metadata": {},
          "execution_count": 76
        }
      ]
    },
    {
      "cell_type": "code",
      "source": [
        "Occupation_Encoder, Payment_of_Min_Amount_Encoder, Payment_Behaviour_Encoder, Credit_Score_Encoder = LabelEncoder(), LabelEncoder(), LabelEncoder(), LabelEncoder()\n",
        "\n"
      ],
      "metadata": {
        "id": "GNea4Ek9hlVs"
      },
      "execution_count": 98,
      "outputs": []
    },
    {
      "cell_type": "code",
      "source": [
        "df_copy_train['Occupation'] = Occupation_Encoder.fit_transform(df_copy_train['Occupation'])\n",
        "df_copy_train['Payment_of_Min_Amount'] = Payment_of_Min_Amount_Encoder.fit_transform(df_copy_train['Payment_of_Min_Amount'])\n",
        "df_copy_train['Payment_Behaviour'] = Payment_Behaviour_Encoder.fit_transform(df_copy_train['Payment_Behaviour'])\n",
        "df_copy_train['Credit_Score'] = Credit_Score_Encoder.fit_transform(df_copy_train['Payment_Behaviour'])"
      ],
      "metadata": {
        "id": "DN_TXH-Lhwac"
      },
      "execution_count": 99,
      "outputs": []
    },
    {
      "cell_type": "markdown",
      "source": [
        "So far we have almost everything, now we can check correlation with every feature with the heat map plot as usual."
      ],
      "metadata": {
        "id": "kbM9Ey9Zy20C"
      }
    },
    {
      "cell_type": "code",
      "source": [
        "plt.figure(figsize =(10,10))\n",
        "sns.heatmap(df_copy_train.corr(), annot = False)\n",
        "plt.show()"
      ],
      "metadata": {
        "colab": {
          "base_uri": "https://localhost:8080/",
          "height": 719
        },
        "id": "U4HgYlXyu3HR",
        "outputId": "7b7095ec-c4ec-4996-ff77-7f7971c1811a"
      },
      "execution_count": 104,
      "outputs": [
        {
          "output_type": "display_data",
          "data": {
            "text/plain": [
              "<Figure size 720x720 with 2 Axes>"
            ],
            "image/png": "[encoded data removed]"
          },
          "metadata": {
            "needs_background": "light"
          }
        }
      ]
    },
    {
      "cell_type": "code",
      "source": [],
      "metadata": {
        "id": "muXKDrbuzQqJ"
      },
      "execution_count": null,
      "outputs": []
    }
  ]
}